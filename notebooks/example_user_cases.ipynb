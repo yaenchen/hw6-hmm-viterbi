{
 "cells": [
  {
   "cell_type": "code",
   "execution_count": 1,
   "metadata": {},
   "outputs": [],
   "source": [
    "import numpy as np\n"
   ]
  },
  {
   "cell_type": "code",
   "execution_count": 2,
   "metadata": {},
   "outputs": [],
   "source": [
    "np.savez('../data/UserCase-One.npz',\n",
    "         prior_probabilities=np.array([0.67, 0.33]),\n",
    "         transition_probabilities=np.array([[0.8, 0.2], \n",
    "                                         [0.4, 0.6]]) ,\n",
    "         emission_probabilities=np.array([[0.8, 0.2],\n",
    "                                       [0.4, 0.6]]),\n",
    "         observation_states=np.array(['on-time', 'on-time', 'late', 'late', 'late', 'on-time']),\n",
    "         hidden_states=np.array(['no-traffic','no-traffic', 'traffic', 'traffic', 'traffic', 'on-time']))"
   ]
  },
  {
   "cell_type": "code",
   "execution_count": 3,
   "metadata": {},
   "outputs": [],
   "source": [
    "np.savez('../data/UserCase-Lecture.npz',\n",
    "         prior_probabilities=np.array([0.67, 0.33]),\n",
    "         transition_probabilities=np.array([[0.8, 0.2], \n",
    "                                         [0.4, 0.6]]) ,\n",
    "         emission_probabilities=np.array([[0.8, 0.2],\n",
    "                                       [0.4, 0.6]]),\n",
    "         observation_states=np.array(['committed', 'committed', 'ambivalent', 'ambivalent', 'ambivalent', 'committed']),\n",
    "         hidden_states=np.array(['R01','R01', 'R21', 'R21', 'R21', 'R01']))"
   ]
  },
  {
   "cell_type": "code",
   "execution_count": 7,
   "metadata": {},
   "outputs": [
    {
     "ename": "NameError",
     "evalue": "name 'HiddenMarkovModel' is not defined",
     "output_type": "error",
     "traceback": [
      "\u001b[0;31m---------------------------------------------------------------------------\u001b[0m",
      "\u001b[0;31mNameError\u001b[0m                                 Traceback (most recent call last)",
      "Cell \u001b[0;32mIn[7], line 11\u001b[0m\n\u001b[1;32m      7\u001b[0m use_case_one_data \u001b[38;5;241m=\u001b[39m np\u001b[38;5;241m.\u001b[39mload(\u001b[38;5;124m'\u001b[39m\u001b[38;5;124m../data/UserCase-Lecture.npz\u001b[39m\u001b[38;5;124m'\u001b[39m)\n\u001b[1;32m      9\u001b[0m     \u001b[38;5;66;03m# Instantiate submodule class models.HiddenMarkovModel with\u001b[39;00m\n\u001b[1;32m     10\u001b[0m     \u001b[38;5;66;03m# observation and hidden states and prior, transition, and emission probabilities.\u001b[39;00m\n\u001b[0;32m---> 11\u001b[0m use_case_one_hmm \u001b[38;5;241m=\u001b[39m \u001b[43mHiddenMarkovModel\u001b[49m(observation_states,\n\u001b[1;32m     12\u001b[0m                                          hidden_states,\n\u001b[1;32m     13\u001b[0m     use_case_one_data[\u001b[38;5;124m'\u001b[39m\u001b[38;5;124mprior_probabilities\u001b[39m\u001b[38;5;124m'\u001b[39m], \u001b[38;5;66;03m# prior probabilities of hidden states in the order specified in the hidden_states list\u001b[39;00m\n\u001b[1;32m     14\u001b[0m     use_case_one_data[\u001b[38;5;124m'\u001b[39m\u001b[38;5;124mtransition_probabilities\u001b[39m\u001b[38;5;124m'\u001b[39m], \u001b[38;5;66;03m# transition_probabilities[:,hidden_states[i]]\u001b[39;00m\n\u001b[1;32m     15\u001b[0m     use_case_one_data[\u001b[38;5;124m'\u001b[39m\u001b[38;5;124memission_probabilities\u001b[39m\u001b[38;5;124m'\u001b[39m])\n",
      "\u001b[0;31mNameError\u001b[0m: name 'HiddenMarkovModel' is not defined"
     ]
    }
   ],
   "source": [
    "observation_states = ['committed','ambivalent'] # A graduate student's dedication to their rotation lab\n",
    "    \n",
    "    # index annotation hidden_states=[i,j]\n",
    "hidden_states = ['R01','R21'] # The NIH funding source of the graduate student's rotation project \n",
    "\n",
    "    # PONDERING QUESTION: How would a user define/compute their own HMM instantiation inputs to decode the hidden states for their use case observations?\n",
    "use_case_one_data = np.load('../data/UserCase-Lecture.npz')\n",
    "\n",
    "    # Instantiate submodule class models.HiddenMarkovModel with\n",
    "    # observation and hidden states and prior, transition, and emission probabilities.\n",
    "use_case_one_hmm = HiddenMarkovModel(observation_states,\n",
    "                                         hidden_states,\n",
    "    use_case_one_data['prior_probabilities'], # prior probabilities of hidden states in the order specified in the hidden_states list\n",
    "    use_case_one_data['transition_probabilities'], # transition_probabilities[:,hidden_states[i]]\n",
    "    use_case_one_data['emission_probabilities'])"
   ]
  },
  {
   "cell_type": "code",
   "execution_count": 6,
   "metadata": {},
   "outputs": [
    {
     "ename": "NameError",
     "evalue": "name 'decode_observation_states' is not defined",
     "output_type": "error",
     "traceback": [
      "\u001b[0;31m---------------------------------------------------------------------------\u001b[0m",
      "\u001b[0;31mNameError\u001b[0m                                 Traceback (most recent call last)",
      "Cell \u001b[0;32mIn[6], line 1\u001b[0m\n\u001b[0;32m----> 1\u001b[0m path \u001b[38;5;241m=\u001b[39m np\u001b[38;5;241m.\u001b[39mzeros((\u001b[38;5;28mlen\u001b[39m(\u001b[43mdecode_observation_states\u001b[49m), \n\u001b[1;32m      2\u001b[0m                          \u001b[38;5;28mlen\u001b[39m(\u001b[38;5;28mself\u001b[39m\u001b[38;5;241m.\u001b[39mhmm_object\u001b[38;5;241m.\u001b[39mhidden_states)))\n\u001b[1;32m      3\u001b[0m path[\u001b[38;5;241m0\u001b[39m,:] \u001b[38;5;241m=\u001b[39m [hidden_state_index \u001b[38;5;28;01mfor\u001b[39;00m hidden_state_index \u001b[38;5;129;01min\u001b[39;00m \u001b[38;5;28mrange\u001b[39m(\u001b[38;5;28mlen\u001b[39m(\u001b[38;5;28mself\u001b[39m\u001b[38;5;241m.\u001b[39mhmm_object\u001b[38;5;241m.\u001b[39mhidden_states))]\n\u001b[1;32m      5\u001b[0m best_path \u001b[38;5;241m=\u001b[39m np\u001b[38;5;241m.\u001b[39mzeros((\u001b[38;5;28mlen\u001b[39m(decode_observation_states), \n\u001b[1;32m      6\u001b[0m                          \u001b[38;5;28mlen\u001b[39m(\u001b[38;5;28mself\u001b[39m\u001b[38;5;241m.\u001b[39mhmm_object\u001b[38;5;241m.\u001b[39mhidden_states)))\n",
      "\u001b[0;31mNameError\u001b[0m: name 'decode_observation_states' is not defined"
     ]
    }
   ],
   "source": [
    "path = np.zeros((len(decode_observation_states), \n",
    "                         len(self.hmm_object.hidden_states)))\n",
    "path[0,:] = [hidden_state_index for hidden_state_index in range(len(self.hmm_object.hidden_states))]\n",
    "\n",
    "best_path = np.zeros((len(decode_observation_states), \n",
    "                         len(self.hmm_object.hidden_states)))   "
   ]
  }
 ],
 "metadata": {
  "kernelspec": {
   "display_name": "Python 3 (ipykernel)",
   "language": "python",
   "name": "python3"
  },
  "language_info": {
   "codemirror_mode": {
    "name": "ipython",
    "version": 3
   },
   "file_extension": ".py",
   "mimetype": "text/x-python",
   "name": "python",
   "nbconvert_exporter": "python",
   "pygments_lexer": "ipython3",
   "version": "3.9.7"
  }
 },
 "nbformat": 4,
 "nbformat_minor": 4
}
