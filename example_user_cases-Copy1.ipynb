{
 "cells": [
  {
   "cell_type": "code",
   "execution_count": 1,
   "metadata": {},
   "outputs": [],
   "source": [
    "import numpy as np\n",
    "from src.models.hmm import HiddenMarkovModel\n",
    "#from src.models.decoders import ViterbiAlgorithm"
   ]
  },
  {
   "cell_type": "code",
   "execution_count": 27,
   "metadata": {},
   "outputs": [],
   "source": [
    "import numpy as np\n",
    "class HiddenMarkovModel:\n",
    "    \"\"\"_summary_\n",
    "    \"\"\"\n",
    "\n",
    "    def __init__(self, observation_states: np.ndarray, hidden_states: np.ndarray, prior_probabilities: np.ndarray, transition_probabilities: np.ndarray, emission_probabilities: np.ndarray):\n",
    "        \"\"\"_summary_\n",
    "\n",
    "        Args:\n",
    "            observation_states (np.ndarray): _description_\n",
    "            hidden_states (np.ndarray): _description_\n",
    "            prior_probabilities (np.ndarray): _description_\n",
    "            transition_probabilities (np.ndarray): _description_\n",
    "            emission_probabilities (np.ndarray): _description_\n",
    "        \"\"\"             \n",
    "        self.observation_states = observation_states\n",
    "        self.observation_states_dict = {observation_state: observation_state_index \\\n",
    "                                  for observation_state_index, observation_state in enumerate(list(self.observation_states))}\n",
    "\n",
    "        self.hidden_states = hidden_states\n",
    "        self.hidden_states_dict = {hidden_state_index: hidden_state \\\n",
    "                                   for hidden_state_index, hidden_state in enumerate(list(self.hidden_states))}\n",
    "        \n",
    "\n",
    "        self.prior_probabilities = prior_probabilities\n",
    "        self.transition_probabilities = transition_probabilities\n",
    "        self.emission_probabilities = emission_probabilities"
   ]
  },
  {
   "cell_type": "code",
   "execution_count": 247,
   "metadata": {},
   "outputs": [],
   "source": [
    "import copy\n",
    "import numpy as np\n",
    "class ViterbiAlgorithm:\n",
    "    \"\"\"_summary_\n",
    "    \"\"\"    \n",
    "\n",
    "    def __init__(self, hmm_object):\n",
    "        \"\"\"_summary_\n",
    "\n",
    "        Args:\n",
    "            hmm_object (_type_): _description_\n",
    "        \"\"\"              \n",
    "        self.hmm_object = hmm_object\n",
    "\n",
    "    def best_hidden_state_sequence(self, decode_observation_states: np.ndarray) -> np.ndarray:\n",
    "        \"\"\"_summary_\n",
    "\n",
    "        Args:\n",
    "            decode_observation_states (np.ndarray): _description_\n",
    "\n",
    "        Returns:\n",
    "            np.ndarray: _description_\n",
    "        \"\"\"        \n",
    "        \n",
    "        # Initialize path (i.e., np.arrays) to store the hidden sequence states returning the maximum probability\n",
    "        path = np.zeros((len(decode_observation_states),\n",
    "                         len(self.hmm_object.hidden_states)))\n",
    "        path[0,:] = [hidden_state_index for hidden_state_index in range(len(self.hmm_object.hidden_states))]\n",
    "\n",
    "        best_path = np.zeros(len(decode_observation_states))\n",
    "        \n",
    "        # Compute initial delta:\n",
    "        # 1. Calculate the product of the prior and emission probabilities. This will be used to decode the first observation state.\n",
    "        delta = np.multiply(self.hmm_object.prior_probabilities, np.transpose(self.hmm_object.emission_probabilities[:, self.hmm_object.observation_states_dict.get(decode_observation_states[0])]))\n",
    "        # 2. Scale: normalize probability of transitioning to next observed state given transition/emission probs of hidden state\n",
    "        # delta values sum to 1\n",
    "        delta = delta / np.sum(delta)\n",
    "        best_path[0] = path[0][np.argmax(delta)]\n",
    "        # For each observation state to decode, select the hidden state sequence with the highest probability (i.e., Viterbi trellis)\n",
    "        # trellis is way of walking down the path of observed hidden states, the path that we take\n",
    "        for trellis_node in range(1, len(decode_observation_states)):\n",
    "            # product of delta and transition\n",
    "            # then product between that and emission probability of the observation in the nth state of trellis path\n",
    "            product_of_delta_and_transition_emission = np.multiply(delta, self.hmm_object.transition_probabilities.transpose())\n",
    "            # emission: prob that hidden state is emitting the observed state. rows are hidden states and columns are obs\n",
    "            product_of_delta_and_transition_emission = np.multiply(product_of_delta_and_transition_emission, self.hmm_object.emission_probabilities[:, self.hmm_object.observation_states_dict.get(decode_observation_states[trellis_node])])\n",
    "            # maximize product_of_delta_and_transition_emission\n",
    "            # max for each COLUMN (what each hidden state/obs state corresponds to), then transpose so \n",
    "            max_prob_hidden_state = product_of_delta_and_transition_emission.max(axis=1).transpose()\n",
    "            # obs state are rows now, hidden states are columns\n",
    "            # scale probabilities\n",
    "            scaled_max_probs = max_prob_hidden_state / np.sum(max_prob_hidden_state)\n",
    "            # track indices of observed states (to decode hidden states) based on the max value we chose (rows are observed states in product_of_delta_and_transition_emission)\n",
    "            obs_state_index = product_of_delta_and_transition_emission.argmax(axis=1)\n",
    "            # add the observed indices to the path variable to keep track\n",
    "            path[trellis_node] = obs_state_index\n",
    "            # using our delta, get the next observed state based on the max probability\n",
    "            best_path[trellis_node - 1] = path[trellis_node - 1][np.argmax(scaled_max_probs)]\n",
    "            # recalculate delta\n",
    "            delta = np.multiply(self.hmm_object.prior_probabilities, np.transpose(self.hmm_object.emission_probabilities[:, self.hmm_object.observation_states_dict.get(decode_observation_states[trellis_node])]))\n",
    "            \n",
    "        best_hidden_state_path = np.array([self.hmm_object.hidden_states[np.int32(index)] for index in best_path])\n",
    "        return best_hidden_state_path"
   ]
  },
  {
   "cell_type": "code",
   "execution_count": 248,
   "metadata": {},
   "outputs": [
    {
     "name": "stdout",
     "output_type": "stream",
     "text": [
      "[0.51353293 0.12838323]\n",
      "[0 0]\n",
      "[0.08576 0.04752]\n",
      "[0 1]\n",
      "[0.04752 0.07128]\n",
      "[1 1]\n",
      "[0.04752 0.07128]\n",
      "[1 1]\n",
      "[0.08576 0.04752]\n",
      "[0 1]\n",
      "[0. 0. 1. 1. 1. 0.]\n",
      "['no-traffic' 'no-traffic' 'traffic' 'traffic' 'traffic' 'no-traffic']\n"
     ]
    }
   ],
   "source": [
    "\n",
    "# index annotation observation_states=[i,j]    \n",
    "observation_states = ['on-time','late'] \n",
    "\n",
    "# index annotation hidden_states=[i,j]\n",
    "hidden_states = ['no-traffic','traffic']\n",
    "\n",
    "# PONDERING QUESTION: How would a user define/compute their own HMM instantiation inputs to decode the hidden states for their use case observations?\n",
    "use_case_one_data = np.load('./data/UserCase-One.npz')\n",
    "\n",
    "# Instantiate submodule class models.HiddenMarkovModel with\n",
    "# observation and hidden states and prior, transition, and emission probabilities.\n",
    "use_case_one_hmm = HiddenMarkovModel(observation_states,\n",
    "                                     hidden_states,\n",
    "                  use_case_one_data['prior_probabilities'], # prior probabilities of hidden states in the order specified in the hidden_states list\n",
    "                  use_case_one_data['transition_probabilities'], # transition_probabilities[:,hidden_states[i]]\n",
    "                  use_case_one_data['emission_probabilities']) # emission_probabilities[hidden_states[i],:][:,observation_states[j]]\n",
    "\n",
    "# Instantiate submodule class models.ViterbiAlgorithm using the use case one HMM \n",
    "use_case_one_viterbi = ViterbiAlgorithm(use_case_one_hmm)\n",
    "\n",
    "use_case_one_viterbi.best_hidden_state_sequence(use_case_one_data['observation_states'])\n"
   ]
  },
  {
   "cell_type": "code",
   "execution_count": 2,
   "metadata": {},
   "outputs": [],
   "source": [
    "np.savez('data/UserCase-One.npz',\n",
    "         prior_probabilities=np.array([0.67, 0.33]),\n",
    "         transition_probabilities=np.array([[0.8, 0.2], \n",
    "                                         [0.4, 0.6]]) ,\n",
    "         emission_probabilities=np.array([[0.8, 0.2],\n",
    "                                       [0.4, 0.6]]),\n",
    "         observation_states=np.array(['on-time', 'on-time', 'late', 'late', 'late', 'on-time']),\n",
    "         hidden_states=np.array(['no-traffic','no-traffic', 'traffic', 'traffic', 'traffic', 'no-traffic']))"
   ]
  },
  {
   "cell_type": "code",
   "execution_count": 2,
   "metadata": {},
   "outputs": [],
   "source": [
    "np.savez('data/PersonalCase.npz',\n",
    "         prior_probabilities=np.array([0.3, 0.7]),\n",
    "         transition_probabilities=np.array([[0.83, 0.17], \n",
    "                                         [0.22, 0.88]]) ,\n",
    "         emission_probabilities=np.array([[0.42, 0.38],\n",
    "                                       [0.4, 0.6]]),\n",
    "         observation_states=np.array(['rain', 'rain', 'sunny', 'rain', 'sunny', 'sunny']),\n",
    "         hidden_states=np.array(['high-humidity','high-humidity', 'low-humidity', 'high-humidity', 'low-humidity', 'high-humidity']))"
   ]
  },
  {
   "cell_type": "code",
   "execution_count": 3,
   "metadata": {},
   "outputs": [],
   "source": [
    "np.savez('data/PersonalCase2.npz',\n",
    "         prior_probabilities=np.array([0.27, 0.33, 0.40]),\n",
    "         transition_probabilities=np.array([[0.7, 0.2, 0.1], \n",
    "                                         [0.2, 0.6, 0.2],\n",
    "                                           [0.3, 0.1, 0.6]]) ,\n",
    "         emission_probabilities=np.array([[0.7, 0.2, 0.1], \n",
    "                                         [0.2, 0.6, 0.2],\n",
    "                                           [0.3, 0.1, 0.6]]),\n",
    "         # educational status are the observations\n",
    "         observation_states=np.array(['lower', 'lower', 'middle', 'upper', 'upper', 'upper', 'middle', 'lower', 'lower']),\n",
    "         hidden_states=np.array(['high-ace','high-ace', 'some-ace', 'low-ace', 'low-ace', 'low-ace', 'some-ace', 'high-ace', 'high-ace']))"
   ]
  },
  {
   "cell_type": "code",
   "execution_count": 16,
   "metadata": {},
   "outputs": [
    {
     "data": {
      "text/plain": [
       "array([0.67, 0.33])"
      ]
     },
     "execution_count": 16,
     "metadata": {},
     "output_type": "execute_result"
    }
   ],
   "source": [
    "use_case_one_hmm.prior_probabilities"
   ]
  },
  {
   "cell_type": "code",
   "execution_count": 4,
   "metadata": {},
   "outputs": [],
   "source": [
    "np.savez('data/UserCase-Lecture.npz',\n",
    "         prior_probabilities=np.array([0.67, 0.33]),\n",
    "         transition_probabilities=np.array([[0.8, 0.2], \n",
    "                                         [0.4, 0.6]]) ,\n",
    "         emission_probabilities=np.array([[0.8, 0.2],\n",
    "                                       [0.4, 0.6]]),\n",
    "         observation_states=np.array(['committed', 'committed', 'ambivalent', 'ambivalent', 'ambivalent', 'committed']),\n",
    "         hidden_states=np.array(['R01','R01', 'R21', 'R21', 'R21', 'R01']))"
   ]
  },
  {
   "cell_type": "code",
   "execution_count": 5,
   "metadata": {},
   "outputs": [],
   "source": [
    "observation_states = ['committed','ambivalent'] # A graduate student's dedication to their rotation lab\n",
    "    \n",
    "    # index annotation hidden_states=[i,j]\n",
    "hidden_states = ['R01','R21'] # The NIH funding source of the graduate student's rotation project \n",
    "\n",
    "    # PONDERING QUESTION: How would a user define/compute their own HMM instantiation inputs to decode the hidden states for their use case observations?\n",
    "use_case_one_data = np.load('data/UserCase-Lecture.npz')\n",
    "\n",
    "    # Instantiate submodule class models.HiddenMarkovModel with\n",
    "    # observation and hidden states and prior, transition, and emission probabilities.\n",
    "use_case_one_hmm = HiddenMarkovModel(observation_states,\n",
    "                                         hidden_states,\n",
    "    use_case_one_data['prior_probabilities'], # prior probabilities of hidden states in the order specified in the hidden_states list\n",
    "    use_case_one_data['transition_probabilities'], # transition_probabilities[:,hidden_states[i]]\n",
    "    use_case_one_data['emission_probabilities'])"
   ]
  },
  {
   "cell_type": "code",
   "execution_count": 6,
   "metadata": {},
   "outputs": [],
   "source": [
    "self = use_case_one_hmm\n",
    "self.hmm_object = use_case_one_hmm\n",
    "\n",
    "path = np.zeros((len(use_case_one_data['observation_states']), \n",
    "                         len(self.hmm_object.hidden_states)))\n",
    "path[0,:] = [hidden_state_index for hidden_state_index in range(len(self.hmm_object.hidden_states))]\n",
    "\n",
    "best_path = np.zeros((len(use_case_one_data['observation_states']), \n",
    "                         len(self.hmm_object.hidden_states)))   "
   ]
  },
  {
   "cell_type": "code",
   "execution_count": 15,
   "metadata": {},
   "outputs": [
    {
     "data": {
      "text/plain": [
       "array([[0., 1.],\n",
       "       [0., 0.],\n",
       "       [0., 0.],\n",
       "       [0., 0.],\n",
       "       [0., 0.],\n",
       "       [0., 0.]])"
      ]
     },
     "execution_count": 15,
     "metadata": {},
     "output_type": "execute_result"
    }
   ],
   "source": [
    "path"
   ]
  },
  {
   "cell_type": "code",
   "execution_count": 16,
   "metadata": {},
   "outputs": [
    {
     "data": {
      "text/plain": [
       "array([0., 1.])"
      ]
     },
     "execution_count": 16,
     "metadata": {},
     "output_type": "execute_result"
    }
   ],
   "source": [
    "path[0,:]"
   ]
  },
  {
   "cell_type": "code",
   "execution_count": 17,
   "metadata": {},
   "outputs": [
    {
     "data": {
      "text/plain": [
       "array([[0., 0.],\n",
       "       [0., 0.],\n",
       "       [0., 0.],\n",
       "       [0., 0.],\n",
       "       [0., 0.],\n",
       "       [0., 0.]])"
      ]
     },
     "execution_count": 17,
     "metadata": {},
     "output_type": "execute_result"
    }
   ],
   "source": [
    "best_path"
   ]
  },
  {
   "cell_type": "code",
   "execution_count": 18,
   "metadata": {},
   "outputs": [
    {
     "data": {
      "text/plain": [
       "['committed', 'ambivalent']"
      ]
     },
     "execution_count": 18,
     "metadata": {},
     "output_type": "execute_result"
    }
   ],
   "source": [
    "observation_states"
   ]
  },
  {
   "cell_type": "code",
   "execution_count": 24,
   "metadata": {},
   "outputs": [
    {
     "data": {
      "text/plain": [
       "['R01', 'R21']"
      ]
     },
     "execution_count": 24,
     "metadata": {},
     "output_type": "execute_result"
    }
   ],
   "source": [
    "hidden_states"
   ]
  },
  {
   "cell_type": "code",
   "execution_count": 25,
   "metadata": {},
   "outputs": [
    {
     "data": {
      "text/plain": [
       "array([0.67, 0.33])"
      ]
     },
     "execution_count": 25,
     "metadata": {},
     "output_type": "execute_result"
    }
   ],
   "source": [
    "self.prior_probabilities # correspond to the observation states"
   ]
  },
  {
   "cell_type": "code",
   "execution_count": 26,
   "metadata": {},
   "outputs": [
    {
     "data": {
      "text/plain": [
       "array([[0.8, 0.2],\n",
       "       [0.4, 0.6]])"
      ]
     },
     "execution_count": 26,
     "metadata": {},
     "output_type": "execute_result"
    }
   ],
   "source": [
    "self.emission_probabilities\n",
    "# use_case_one_data['emission_probabilities']) # emission_probabilities[hidden_states[i],:][:,observation_states[j]]\n",
    "# what is this :(\n",
    "# hidden state row and observation is column??"
   ]
  },
  {
   "cell_type": "code",
   "execution_count": 33,
   "metadata": {},
   "outputs": [
    {
     "data": {
      "text/plain": [
       "{'committed': 0, 'ambivalent': 1}"
      ]
     },
     "execution_count": 33,
     "metadata": {},
     "output_type": "execute_result"
    }
   ],
   "source": [
    "self.observation_states_dict"
   ]
  },
  {
   "cell_type": "code",
   "execution_count": 9,
   "metadata": {},
   "outputs": [
    {
     "data": {
      "text/plain": [
       "[0.536, 0.132]"
      ]
     },
     "execution_count": 9,
     "metadata": {},
     "output_type": "execute_result"
    }
   ],
   "source": [
    "decode_observation_states = use_case_one_data['observation_states']\n",
    "# Compute initial delta:\n",
    "        # 1. Calculate the product of the prior and emission probabilities. This will be used to decode the first observation state.\n",
    "        # 2. Scale \n",
    "delta = [np.multiply(self.prior_probabilities[state], self.emission_probabilities[state][self.observation_states_dict.get(decode_observation_states[0])]) for state in range(len(self.hidden_states))]\n",
    "delta"
   ]
  },
  {
   "cell_type": "code",
   "execution_count": 17,
   "metadata": {},
   "outputs": [
    {
     "data": {
      "text/plain": [
       "array([0.536, 0.066])"
      ]
     },
     "execution_count": 17,
     "metadata": {},
     "output_type": "execute_result"
    }
   ],
   "source": [
    "delta = np.multiply(self.prior_probabilities, self.emission_probabilities[self.observation_states_dict.get(decode_observation_states[0])])\n",
    "delta"
   ]
  },
  {
   "cell_type": "code",
   "execution_count": 21,
   "metadata": {},
   "outputs": [
    {
     "data": {
      "text/plain": [
       "array([[0.8, 0.2],\n",
       "       [0.4, 0.6]])"
      ]
     },
     "execution_count": 21,
     "metadata": {},
     "output_type": "execute_result"
    }
   ],
   "source": [
    "self.transition_probabilities # transition_probabilities[:,hidden_states[i]]"
   ]
  },
  {
   "cell_type": "code",
   "execution_count": 66,
   "metadata": {},
   "outputs": [
    {
     "data": {
      "text/plain": [
       "range(0, 2)"
      ]
     },
     "execution_count": 66,
     "metadata": {},
     "output_type": "execute_result"
    }
   ],
   "source": [
    "range(len(self.observation_states))"
   ]
  },
  {
   "cell_type": "code",
   "execution_count": 22,
   "metadata": {},
   "outputs": [
    {
     "data": {
      "text/plain": [
       "array([[0.8, 0.2],\n",
       "       [0.4, 0.6]])"
      ]
     },
     "execution_count": 22,
     "metadata": {},
     "output_type": "execute_result"
    }
   ],
   "source": [
    "self.emission_probabilities"
   ]
  },
  {
   "cell_type": "code",
   "execution_count": 349,
   "metadata": {},
   "outputs": [
    {
     "data": {
      "text/plain": [
       "'R01'"
      ]
     },
     "execution_count": 349,
     "metadata": {},
     "output_type": "execute_result"
    }
   ],
   "source": [
    "path = self.hidden_states\n",
    "path"
   ]
  },
  {
   "cell_type": "code",
   "execution_count": 367,
   "metadata": {},
   "outputs": [
    {
     "data": {
      "text/plain": [
       "array([[0., 0.],\n",
       "       [0., 0.],\n",
       "       [0., 0.],\n",
       "       [0., 0.],\n",
       "       [0., 0.],\n",
       "       [0., 0.]])"
      ]
     },
     "execution_count": 367,
     "metadata": {},
     "output_type": "execute_result"
    }
   ],
   "source": [
    "path = np.zeros((len(decode_observation_states),\n",
    "                         len(self.hmm_object.hidden_states)))\n",
    "path\n"
   ]
  },
  {
   "cell_type": "code",
   "execution_count": 387,
   "metadata": {},
   "outputs": [
    {
     "data": {
      "text/plain": [
       "array([[0., 0.],\n",
       "       [0., 0.],\n",
       "       [0., 0.],\n",
       "       [0., 0.],\n",
       "       [0., 0.],\n",
       "       [0., 0.]])"
      ]
     },
     "execution_count": 387,
     "metadata": {},
     "output_type": "execute_result"
    }
   ],
   "source": [
    "best_path= np.zeros((len(decode_observation_states), \n",
    "                         len(self.hmm_object.hidden_states)))\n",
    "best_path"
   ]
  },
  {
   "cell_type": "code",
   "execution_count": null,
   "metadata": {},
   "outputs": [],
   "source": []
  },
  {
   "cell_type": "code",
   "execution_count": 365,
   "metadata": {},
   "outputs": [
    {
     "name": "stdout",
     "output_type": "stream",
     "text": [
      "[array([2.39261330e-20, 2.20959623e-21]), array([5.98153324e-21, 3.31439435e-21])]\n",
      "['R01, R01', 'R01, R21']\n",
      "[array([8.20762065e-21, 1.26329982e-22]), array([2.05190516e-21, 1.89494973e-22])]\n",
      "['R01, R01, R01', 'R01, R01, R21']\n",
      "[array([8.66724741e-23, 9.75065333e-23]), array([2.16681185e-23, 1.46259800e-22])]\n",
      "['R01, R01, R21, R01', 'R01, R01, R21, R21']\n",
      "[array([1.02966899e-24, 6.95026570e-24]), array([2.57417248e-25, 1.04253985e-23])]\n",
      "['R01, R01, R21, R21, R01', 'R01, R01, R21, R21, R21']\n",
      "[array([7.33948058e-26, 4.95414939e-25]), array([1.83487014e-26, 7.43122408e-25])]\n",
      "['R01, R01, R21, R21, R21, R01', 'R01, R01, R21, R21, R21, R21']\n",
      "R01, R01, R21, R21, R21, R01\n"
     ]
    }
   ],
   "source": [
    "path = self.hidden_states\n",
    "\n",
    "for trellis_node in range(1, len(decode_observation_states)):\n",
    "    product_of_delta_and_transition_emission = [(delta * self.transition_probabilities[:, state]) for state in range(len(self.hidden_states))]\n",
    "    delta = [np.max(product_of_delta_and_transition_emission[state]) * self.emission_probabilities[state][self.observation_states_dict.get(decode_observation_states[trellis_node])] for state in range(len(self.hidden_states))]\n",
    "    print(product_of_delta_and_transition_emission)\n",
    "    path = [path[np.argmax(product_of_delta_and_transition_emission[state])] + \", \" + self.hidden_states[state] for state in range(len(self.hidden_states))]\n",
    "    print(path)\n",
    "\n",
    "final_path = path[np.argmax(delta)]\n",
    "print(np.array(final_path))"
   ]
  },
  {
   "cell_type": "code",
   "execution_count": 361,
   "metadata": {},
   "outputs": [
    {
     "data": {
      "text/plain": [
       "'R01, R01, R21, R21, R21, R21'"
      ]
     },
     "execution_count": 361,
     "metadata": {},
     "output_type": "execute_result"
    }
   ],
   "source": [
    "path[np.argmax(product_of_delta_and_transition_emission[1])]"
   ]
  },
  {
   "cell_type": "code",
   "execution_count": 448,
   "metadata": {},
   "outputs": [],
   "source": [
    "path = np.zeros((len(decode_observation_states),\n",
    "                         len(self.hmm_object.hidden_states)))\n",
    "path[0,:] = [hidden_state_index for hidden_state_index in range(len(self.hmm_object.hidden_states))]\n",
    "\n",
    "best_path = np.zeros((len(decode_observation_states), \n",
    "                         len(self.hmm_object.hidden_states)))      "
   ]
  },
  {
   "cell_type": "code",
   "execution_count": 237,
   "metadata": {},
   "outputs": [
    {
     "data": {
      "text/plain": [
       "array([0.8, 0.4])"
      ]
     },
     "execution_count": 237,
     "metadata": {},
     "output_type": "execute_result"
    }
   ],
   "source": [
    "np.transpose(self.hmm_object.emission_probabilities[:, 0])\n",
    "# need to transpose"
   ]
  },
  {
   "cell_type": "code",
   "execution_count": 240,
   "metadata": {},
   "outputs": [
    {
     "data": {
      "text/plain": [
       "array([0.536, 0.132])"
      ]
     },
     "execution_count": 240,
     "metadata": {},
     "output_type": "execute_result"
    }
   ],
   "source": [
    "delta = np.multiply(self.prior_probabilities, np.transpose(self.hmm_object.emission_probabilities[:, self.hmm_object.observation_states_dict.get(decode_observation_states[0])]))\n",
    "delta"
   ]
  },
  {
   "cell_type": "code",
   "execution_count": 238,
   "metadata": {},
   "outputs": [
    {
     "name": "stdout",
     "output_type": "stream",
     "text": [
      "[0.536 0.132]\n"
     ]
    },
    {
     "data": {
      "text/plain": [
       "array([[0., 0.],\n",
       "       [0., 0.],\n",
       "       [0., 0.],\n",
       "       [0., 0.],\n",
       "       [0., 0.],\n",
       "       [0., 0.]])"
      ]
     },
     "execution_count": 238,
     "metadata": {},
     "output_type": "execute_result"
    }
   ],
   "source": [
    "delta = np.multiply(self.prior_probabilities, np.transpose(self.hmm_object.emission_probabilities[:, self.observation_states_dict.get(decode_observation_states[0])]))\n",
    "print(delta)\n",
    "path = np.zeros((len(decode_observation_states),\n",
    "                         len(self.hmm_object.hidden_states)))\n",
    "path[0,:] = [hidden_state_index for hidden_state_index in range(len(self.hmm_object.hidden_states))]\n",
    "best_path = np.zeros((len(decode_observation_states), \n",
    "                         len(self.hmm_object.hidden_states)))  \n",
    "\n",
    "for trellis_node in range(1, len(decode_observation_states)):\n",
    "    transition_probabilities = delta * self.hmm_object.transition_probabilities[self.observation_states_dict.get(decode_observation_states[trellis_node])] # transition_probabilities[:,hidden_states[i]]\n",
    "    delta=np.max(transition_probabilities) * self.hmm_object.emission_probabilities[self.observation_states_dict.get(decode_observation_states[trellis_node])]\n",
    "    for hidden_state in range(len(self.hmm_object.hidden_states)):\n",
    "        #print(delta)\n",
    "        path[trellis_node][hidden_state] = (delta[hidden_state])\n",
    "    #print(path)\n",
    "    #print(np.argmax(path[trellis_node]))\n",
    "best_path"
   ]
  },
  {
   "cell_type": "code",
   "execution_count": null,
   "metadata": {},
   "outputs": [],
   "source": []
  },
  {
   "cell_type": "code",
   "execution_count": 192,
   "metadata": {},
   "outputs": [
    {
     "ename": "IndexError",
     "evalue": "list index out of range",
     "output_type": "error",
     "traceback": [
      "\u001b[0;31m---------------------------------------------------------------------------\u001b[0m",
      "\u001b[0;31mIndexError\u001b[0m                                Traceback (most recent call last)",
      "Cell \u001b[0;32mIn[192], line 9\u001b[0m\n\u001b[1;32m      7\u001b[0m \u001b[38;5;28;01mfor\u001b[39;00m hidden_state \u001b[38;5;129;01min\u001b[39;00m \u001b[38;5;28mrange\u001b[39m(\u001b[38;5;28mlen\u001b[39m(\u001b[38;5;28mself\u001b[39m\u001b[38;5;241m.\u001b[39mhmm_object\u001b[38;5;241m.\u001b[39mhidden_states)):\n\u001b[1;32m      8\u001b[0m     delta \u001b[38;5;241m=\u001b[39m [np\u001b[38;5;241m.\u001b[39mmax(transition_probabilities[hidden_state]) \u001b[38;5;241m*\u001b[39m \u001b[38;5;28mself\u001b[39m\u001b[38;5;241m.\u001b[39mhmm_object\u001b[38;5;241m.\u001b[39memission_probabilities[\u001b[38;5;28mself\u001b[39m\u001b[38;5;241m.\u001b[39mobservation_states_dict\u001b[38;5;241m.\u001b[39mget(decode_observation_states[trellis_node])]] \u001b[38;5;66;03m# get a 1 by 2 matrix with prob of the observed state\u001b[39;00m\n\u001b[0;32m----> 9\u001b[0m     \u001b[43mpath\u001b[49m\u001b[43m[\u001b[49m\u001b[43mtrellis_node\u001b[49m\u001b[43m]\u001b[49m[hidden_state] \u001b[38;5;241m=\u001b[39m np\u001b[38;5;241m.\u001b[39margmax(delta)\n\u001b[1;32m     10\u001b[0m     \u001b[38;5;28mprint\u001b[39m(path)\n\u001b[1;32m     11\u001b[0m best_path[trellis_node] \u001b[38;5;241m=\u001b[39m np\u001b[38;5;241m.\u001b[39margmax(path[trellis_node])\n",
      "\u001b[0;31mIndexError\u001b[0m: list index out of range"
     ]
    }
   ],
   "source": [
    "##WORKING\n",
    "\n",
    "delta = np.multiply(self.prior_probabilities, self.emission_probabilities)\n",
    "\n",
    "for trellis_node in range(1, len(decode_observation_states)):\n",
    "    transition_probabilities = delta * self.hmm_object.transition_probabilities[self.observation_states_dict.get(decode_observation_states[trellis_node])] # transition_probabilities[:,hidden_states[i]]\n",
    "    for hidden_state in range(len(self.hmm_object.hidden_states)):\n",
    "        delta = [np.max(transition_probabilities[hidden_state]) * self.hmm_object.emission_probabilities[self.observation_states_dict.get(decode_observation_states[trellis_node])]] # get a 1 by 2 matrix with prob of the observed state\n",
    "        path[trellis_node][hidden_state] = np.argmax(delta)\n",
    "        print(path)\n",
    "    best_path[trellis_node] = np.argmax(path[trellis_node])\n",
    "    print(best_path)\n",
    "    #print(self.hidden_states[best_path])"
   ]
  },
  {
   "cell_type": "code",
   "execution_count": 25,
   "metadata": {},
   "outputs": [
    {
     "ename": "TypeError",
     "evalue": "list indices must be integers or slices, not tuple",
     "output_type": "error",
     "traceback": [
      "\u001b[0;31m---------------------------------------------------------------------------\u001b[0m",
      "\u001b[0;31mTypeError\u001b[0m                                 Traceback (most recent call last)",
      "Cell \u001b[0;32mIn[25], line 1\u001b[0m\n\u001b[0;32m----> 1\u001b[0m \u001b[43mdelta\u001b[49m\u001b[43m[\u001b[49m\u001b[43m:\u001b[49m\u001b[43m,\u001b[49m\u001b[43m \u001b[49m\u001b[38;5;241;43m0\u001b[39;49m\u001b[43m]\u001b[49m\n",
      "\u001b[0;31mTypeError\u001b[0m: list indices must be integers or slices, not tuple"
     ]
    }
   ],
   "source": [
    "delta[:, 0]"
   ]
  },
  {
   "cell_type": "code",
   "execution_count": 109,
   "metadata": {},
   "outputs": [
    {
     "data": {
      "text/plain": [
       "array([0., 0.])"
      ]
     },
     "execution_count": 109,
     "metadata": {},
     "output_type": "execute_result"
    }
   ],
   "source": [
    "delta = np.multiply(self.prior_probabilities, self.emission_probabilities)\n",
    "path = np.zeros((len(decode_observation_states),\n",
    "                         len(self.hmm_object.hidden_states)))\n",
    "path[0,:] = [hidden_state_index for hidden_state_index in range(len(self.hmm_object.hidden_states))]\n",
    "path[1]"
   ]
  },
  {
   "cell_type": "code",
   "execution_count": 124,
   "metadata": {},
   "outputs": [
    {
     "data": {
      "text/plain": [
       "array([[0., 0.],\n",
       "       [0., 0.],\n",
       "       [0., 0.],\n",
       "       [0., 0.],\n",
       "       [0., 0.],\n",
       "       [0., 0.]])"
      ]
     },
     "execution_count": 124,
     "metadata": {},
     "output_type": "execute_result"
    }
   ],
   "source": [
    "best_path = np.zeros((len(decode_observation_states), \n",
    "                         len(self.hmm_object.hidden_states)))  \n",
    "best_path"
   ]
  },
  {
   "cell_type": "code",
   "execution_count": 191,
   "metadata": {},
   "outputs": [
    {
     "name": "stdout",
     "output_type": "stream",
     "text": [
      "[0.34304 0.17152]\n",
      "[0]\n",
      "[0.0548864 0.1646592]\n",
      "[1]\n",
      "[0.0197591  0.05927731]\n",
      "[1]\n",
      "[0.00711328 0.02133983]\n",
      "[1]\n",
      "[0.01024312 0.00512156]\n",
      "[0]\n"
     ]
    },
    {
     "data": {
      "text/plain": [
       "array([0, 0, 1, 1, 1, 0])"
      ]
     },
     "execution_count": 191,
     "metadata": {},
     "output_type": "execute_result"
    }
   ],
   "source": [
    "delta = np.multiply(self.prior_probabilities, self.emission_probabilities)\n",
    "path = np.zeros((len(decode_observation_states),\n",
    "                         len(self.hmm_object.hidden_states)))\n",
    "path[0,:] = [hidden_state_index for hidden_state_index in range(len(self.hmm_object.hidden_states))]\n",
    "\n",
    "best_path = np.zeros((len(decode_observation_states), \n",
    "                         len(self.hmm_object.hidden_states)))      \n",
    "\n",
    "        # For each observation state to decode, select the hidden state sequence with the highest probability (i.e., Viterbi trellis)\n",
    "for trellis_node in range(1, len(decode_observation_states)):\n",
    "    transition_probabilities = (delta * self.hmm_object.transition_probabilities) # get a 4 by 4 matrix, columns are the different hidden state probabilities\n",
    "    #print(transition_probabilities)\n",
    "    # Update delta and scale\n",
    "    delta = np.max(transition_probabilities) * self.hmm_object.emission_probabilities[:, self.hmm_object.observation_states_dict.get(decode_observation_states[trellis_node])] # get a 1 by 2 matrix with prob of the observed state\n",
    "    # Select the hidden state sequence with the maximum probability\n",
    "    print(delta)\n",
    "    path = [np.argmax(delta)] # index of higher prob, corresponding to hidden state\n",
    "    print(path)\n",
    "    # Update best path\n",
    "    best_path[trellis_node, path] = 1\n",
    "    #print(best_path)\n",
    "    # Set best hidden state sequence in the best_path np.ndarray THEN copy the best_path to path\n",
    "\n",
    "        # Select the last hidden state, given the best path (i.e., maximum probability)\n",
    "best_hidden_state_path = np.argmax(best_path, axis=1)\n",
    "best_hidden_state_path"
   ]
  },
  {
   "cell_type": "code",
   "execution_count": 443,
   "metadata": {},
   "outputs": [
    {
     "data": {
      "text/plain": [
       "array([[0.287296, 0.004356],\n",
       "       [0.035376, 0.039204]])"
      ]
     },
     "execution_count": 443,
     "metadata": {},
     "output_type": "execute_result"
    }
   ],
   "source": [
    "#delta = np.multiply(self.prior_probabilities, self.emission_probabilities[self.observation_states_dict.get(decode_observation_states[0])])\n",
    "delta = np.multiply(self.prior_probabilities, self.emission_probabilities)\n",
    "delta"
   ]
  },
  {
   "cell_type": "code",
   "execution_count": 433,
   "metadata": {},
   "outputs": [
    {
     "data": {
      "text/plain": [
       "array([0., 0.])"
      ]
     },
     "execution_count": 433,
     "metadata": {},
     "output_type": "execute_result"
    }
   ],
   "source": [
    "best_path[1]"
   ]
  },
  {
   "cell_type": "code",
   "execution_count": 420,
   "metadata": {},
   "outputs": [
    {
     "data": {
      "text/plain": [
       "0.22983680000000006"
      ]
     },
     "execution_count": 420,
     "metadata": {},
     "output_type": "execute_result"
    }
   ],
   "source": [
    "np.max(transition_probabilities)"
   ]
  },
  {
   "cell_type": "code",
   "execution_count": 394,
   "metadata": {},
   "outputs": [
    {
     "name": "stdout",
     "output_type": "stream",
     "text": [
      "['R01', 'R21']\n"
     ]
    }
   ],
   "source": [
    "print([self.hidden_states[state] for state in range(len(self.hidden_states))])"
   ]
  },
  {
   "cell_type": "code",
   "execution_count": 296,
   "metadata": {},
   "outputs": [
    {
     "data": {
      "text/plain": [
       "False"
      ]
     },
     "execution_count": 296,
     "metadata": {},
     "output_type": "execute_result"
    }
   ],
   "source": [
    "np.alltrue(final_path == use_case_one_data['hidden_states'])"
   ]
  },
  {
   "cell_type": "code",
   "execution_count": 302,
   "metadata": {},
   "outputs": [
    {
     "data": {
      "text/plain": [
       "'R01, R01, R21, R21, R21, R01'"
      ]
     },
     "execution_count": 302,
     "metadata": {},
     "output_type": "execute_result"
    }
   ],
   "source": [
    "final_path"
   ]
  },
  {
   "cell_type": "code",
   "execution_count": 303,
   "metadata": {},
   "outputs": [
    {
     "data": {
      "text/plain": [
       "array(['R01', 'R01', 'R21', 'R21', 'R21', 'R01'], dtype='<U3')"
      ]
     },
     "execution_count": 303,
     "metadata": {},
     "output_type": "execute_result"
    }
   ],
   "source": [
    "use_case_one_data['hidden_states']"
   ]
  },
  {
   "cell_type": "code",
   "execution_count": 233,
   "metadata": {},
   "outputs": [
    {
     "data": {
      "text/plain": [
       "['committed', 'ambivalent']"
      ]
     },
     "execution_count": 233,
     "metadata": {},
     "output_type": "execute_result"
    }
   ],
   "source": [
    "self.observation_states"
   ]
  },
  {
   "cell_type": "code",
   "execution_count": 106,
   "metadata": {},
   "outputs": [
    {
     "data": {
      "text/plain": [
       "array([[9.85540198e-02, 2.29996800e-05],\n",
       "       [1.21353830e-02, 2.06997120e-04]])"
      ]
     },
     "execution_count": 106,
     "metadata": {},
     "output_type": "execute_result"
    }
   ],
   "source": [
    "max([(product_of_delta_and_transition_emission[state]) * self.emission_probabilities[state]for state in range(len(self.observation_states) - 1)])"
   ]
  },
  {
   "cell_type": "code",
   "execution_count": null,
   "metadata": {},
   "outputs": [],
   "source": []
  },
  {
   "cell_type": "code",
   "execution_count": null,
   "metadata": {},
   "outputs": [],
   "source": []
  },
  {
   "cell_type": "code",
   "execution_count": 52,
   "metadata": {},
   "outputs": [
    {
     "data": {
      "text/plain": [
       "6"
      ]
     },
     "execution_count": 52,
     "metadata": {},
     "output_type": "execute_result"
    }
   ],
   "source": [
    "len(use_case_one_data['observation_states'])"
   ]
  },
  {
   "cell_type": "code",
   "execution_count": null,
   "metadata": {},
   "outputs": [],
   "source": []
  }
 ],
 "metadata": {
  "kernelspec": {
   "display_name": "Python 3 (ipykernel)",
   "language": "python",
   "name": "python3"
  },
  "language_info": {
   "codemirror_mode": {
    "name": "ipython",
    "version": 3
   },
   "file_extension": ".py",
   "mimetype": "text/x-python",
   "name": "python",
   "nbconvert_exporter": "python",
   "pygments_lexer": "ipython3",
   "version": "3.9.7"
  }
 },
 "nbformat": 4,
 "nbformat_minor": 4
}
